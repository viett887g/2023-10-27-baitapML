{
  "nbformat": 4,
  "nbformat_minor": 0,
  "metadata": {
    "colab": {
      "provenance": [],
      "toc_visible": true,
      "authorship_tag": "ABX9TyNugkyoAHhBJ1+/YK7zmmtX",
      "include_colab_link": true
    },
    "kernelspec": {
      "name": "python3",
      "display_name": "Python 3"
    },
    "language_info": {
      "name": "python"
    }
  },
  "cells": [
    {
      "cell_type": "markdown",
      "metadata": {
        "id": "view-in-github",
        "colab_type": "text"
      },
      "source": [
        "<a href=\"https://colab.research.google.com/github/viett887g/2023-10-27-baitapML/blob/main/redo.ipynb\" target=\"_parent\"><img src=\"https://colab.research.google.com/assets/colab-badge.svg\" alt=\"Open In Colab\"/></a>"
      ]
    },
    {
      "cell_type": "code",
      "source": [
        "from google.colab import drive\n",
        "drive.mount('/content/drive')"
      ],
      "metadata": {
        "colab": {
          "base_uri": "https://localhost:8080/"
        },
        "id": "eyUNVzmDWWWO",
        "outputId": "352ff8aa-5311-4c3d-ba7a-a96508b1c7a5"
      },
      "execution_count": 26,
      "outputs": [
        {
          "output_type": "stream",
          "name": "stdout",
          "text": [
            "Drive already mounted at /content/drive; to attempt to forcibly remount, call drive.mount(\"/content/drive\", force_remount=True).\n"
          ]
        }
      ]
    },
    {
      "cell_type": "code",
      "execution_count": 27,
      "metadata": {
        "id": "0M9aTuolVmaX"
      },
      "outputs": [],
      "source": [
        "import numpy as np\n",
        "import os\n",
        "from sklearn import preprocessing\n",
        "from sklearn.model_selection import train_test_split\n",
        "from sklearn.metrics import mean_squared_error, r2_score\n",
        "import pandas as pd"
      ]
    },
    {
      "cell_type": "markdown",
      "source": [
        "# **I. Chọn dataset :USA Housing**"
      ],
      "metadata": {
        "id": "s6yZtcBZoKx8"
      }
    },
    {
      "cell_type": "code",
      "source": [
        "def readdata(file):\n",
        "    data = pd.read_csv(file)\n",
        "    del data['Address']\n",
        "    data = np.array(data)\n",
        "    return data\n",
        "\n",
        "# Hàm chuẩn hóa dữ liệu và tạo training set và test set\n",
        "def create_data(data):\n",
        "    data = preprocessing.MinMaxScaler().fit_transform(data)\n",
        "    X = data[:,:-1]\n",
        "    y = data[:, -1]\n",
        "    X_train, X_test, y_train, y_test = train_test_split(X, y, test_size=0.2, random_state=42)\n",
        "    return X_train, X_test, y_train, y_test\n",
        "\n",
        "# Hàm sigmoid\n",
        "def sigmoid(X, w):\n",
        "    Hw = 1 / (1 + np.exp(-np.dot(X, w)))\n",
        "    return Hw\n",
        "\n",
        "def linear_loss(X, y, w):\n",
        "      m = X.shape[0]\n",
        "      y_pred = np.dot(X, w)\n",
        "      J = 1/(2*m) * np.sum((y_pred - y)**2)\n",
        "      return J"
      ],
      "metadata": {
        "id": "L2ftg5TSbHLM"
      },
      "execution_count": 28,
      "outputs": []
    },
    {
      "cell_type": "markdown",
      "source": [
        "# II. Chọn 2 phương pháp **Gradient Descent (GD)**, **Momentum Based GD** tối ưu để tối ưu hoá loss function Linear Regression cho tập dữ liệu USA Housing"
      ],
      "metadata": {
        "id": "2ckxkM8DoQbL"
      }
    },
    {
      "cell_type": "markdown",
      "source": [
        "##**2.1 Gradient Descent (GD)**"
      ],
      "metadata": {
        "id": "3RR9UEa_pN3U"
      }
    },
    {
      "cell_type": "code",
      "source": [
        "def gradient_descent(X, y, w, learning_rate, iterations):\n",
        "    m = X.shape[0]\n",
        "    for i in range(iterations):\n",
        "        h = np.dot(X, w)\n",
        "        loss = h - y\n",
        "        gradient = np.dot(X.T, loss) / m\n",
        "        w -= learning_rate * gradient\n",
        "    return w"
      ],
      "metadata": {
        "id": "OG9lRlKdgvWv"
      },
      "execution_count": 29,
      "outputs": []
    },
    {
      "cell_type": "markdown",
      "source": [
        "## **2.2 Momentum Based GD**"
      ],
      "metadata": {
        "id": "F9JNfaccpXbj"
      }
    },
    {
      "cell_type": "code",
      "source": [
        "def momentum_gradient_descent(X, y, w, learning_rate, gamma, iterations):\n",
        "    m = X.shape[0]\n",
        "    v = np.zeros_like(w)  # Khởi tạo véc-tơ momentum ban đầu là 0\n",
        "\n",
        "    for i in range(iterations):\n",
        "        h = np.dot(X, w)\n",
        "        loss = h - y\n",
        "        gradient = np.dot(X.T, loss) / m\n",
        "\n",
        "        v = gamma * v + learning_rate * gradient  # Cập nhật momentum theo gradient hiện tại và momentum trước đó\n",
        "        w -= v  # Cập nhật trọng số dựa trên momentum\n",
        "\n",
        "    return w\n"
      ],
      "metadata": {
        "id": "LjUTjXWkhnUA"
      },
      "execution_count": 30,
      "outputs": []
    },
    {
      "cell_type": "markdown",
      "source": [
        "# **III. So sánh hiệu suất của các thuật toán**"
      ],
      "metadata": {
        "id": "d3XE99OipcAL"
      }
    },
    {
      "cell_type": "code",
      "source": [
        "def evaluate_performance(X_test, y_test, w):\n",
        "    # Tính toán dự đoán trên tập test\n",
        "    y_pred = np.dot(X_test, w)\n",
        "\n",
        "    # Tính toán Mean Squared Error (MSE)\n",
        "    mse = mean_squared_error(y_test, y_pred)\n",
        "\n",
        "    # Tính toán Rmse\n",
        "    rmse = np.sqrt(mse)\n",
        "\n",
        "\n",
        "    # Trả về kết quả hiệu suất của mô hình\n",
        "    return mse, rmse"
      ],
      "metadata": {
        "id": "VjeaL1WHkU87"
      },
      "execution_count": 31,
      "outputs": []
    },
    {
      "cell_type": "code",
      "source": [
        "def main():\n",
        "    file = (\"/content/drive/MyDrive/USA_Housing.csv\")  # Thay đổi thành tên tệp dữ liệu thực tế của bạn\n",
        "    data = readdata(file)\n",
        "    X_train, X_test, y_train, y_test = create_data(data)\n",
        "\n",
        "    num_features = X_train.shape[1]\n",
        "    w = np.zeros(num_features)  # Khởi tạo trọng số ban đầu\n",
        "\n",
        "    learning_rate = 0.01\n",
        "    num_iterations = 1000\n",
        "    gamma = 0.9\n",
        "\n",
        "    # Sử dụng Gradient Descent\n",
        "    w_optimal_gd = gradient_descent(X_train, y_train, w, learning_rate, num_iterations)\n",
        "    loss_gd = linear_loss(X_train, y_train, w_optimal_gd)\n",
        "\n",
        "    print(\"Giá trị loss tối ưu của Gradient Descents :\", loss_gd)\n",
        "    mse, rmse = evaluate_performance(X_test, y_test, w_optimal_gd)\n",
        "\n",
        "    print(\"Mean Squared Error của Gradient Descents (MSE):\", mse)\n",
        "    print('Root Mean Squared Error của Gradient Descents:',rmse)\n",
        "    print('\\n','\\n')\n",
        "\n",
        "    # Sử dụng Momentum Based Gradient Descent\n",
        "    w_optimal_momentum = momentum_gradient_descent(X_train, y_train, w, learning_rate, gamma, num_iterations)\n",
        "    loss_momentum = linear_loss(X_train, y_train, w_optimal_momentum)\n",
        "    print(\"Giá trị loss tối ưu của momentum_based_gradient_descent :\", loss_momentum)\n",
        "    mse, rmse = evaluate_performance(X_test, y_test, w_optimal_momentum)\n",
        "\n",
        "    print(\"Mean Squared Error (MSE) của momentum_based_gradient_descent:\", mse)\n",
        "    print('Root Mean Squared Error của momentum_based_gradient_descent:',rmse)\n",
        "\n",
        "\n",
        "if __name__ == \"__main__\":\n",
        "    main()\n",
        "\n"
      ],
      "metadata": {
        "colab": {
          "base_uri": "https://localhost:8080/"
        },
        "id": "nQJPj5wyftYg",
        "outputId": "bd6ddc0d-d1d9-45f2-8e75-ef907440cf7e"
      },
      "execution_count": 42,
      "outputs": [
        {
          "output_type": "stream",
          "name": "stdout",
          "text": [
            "Giá trị loss tối ưu của Gradient Descents : 0.004147692715904917\n",
            "Mean Squared Error của Gradient Descents (MSE): 0.008215352544588292\n",
            "Root Mean Squared Error của Gradient Descents: 0.09063858198685751\n",
            "\n",
            " \n",
            "\n",
            "Giá trị loss tối ưu của momentum_based_gradient_descent : 0.0035506389587542883\n",
            "Mean Squared Error (MSE) của momentum_based_gradient_descent: 0.0069475994237732435\n",
            "Root Mean Squared Error của momentum_based_gradient_descent: 0.08335226105975316\n"
          ]
        }
      ]
    },
    {
      "cell_type": "markdown",
      "source": [
        "# **IV. Nhận xét**\n",
        "\n",
        "mô hình momentum_based_gradient_descent có giá trị loss tối ưu thấp hơn, cho thấy mô hình này có hiệu suất tốt hơn trong việc tối ưu hóa hàm mất mát.\n",
        "\n",
        "mô hình momentum_based_gradient_descent có giá trị MSE thấp hơn, cho thấy mô hình này có khả năng dự đoán chính xác hơn và đạt được mức độ biến động giữa giá trị dự đoán và giá trị thực tế tốt hơn.\n",
        "\n",
        "mô hình momentum_based_gradient_descent có giá trị RMSE thấp hơn, cho thấy mô hình này có khả năng dự đoán chính xác hơn và có độ lệch trung bình giữa giá trị dự đoán và giá trị thực tế thấp hơn."
      ],
      "metadata": {
        "id": "l7npH17UnqP7"
      }
    },
    {
      "cell_type": "markdown",
      "source": [
        "# **IV. Kết luận**\n",
        "Dựa trên các kết quả trên, mô hình momentum_based_gradient_descent có giá trị loss thấp hơn và các chỉ số MSE và RMSE nhỏ hơn, do đó có thể xem là mô hình này tối ưu hơn và tốt hơn so với mô hình Gradient Descents."
      ],
      "metadata": {
        "id": "jZaX48GlqWC0"
      }
    },
    {
      "cell_type": "markdown",
      "source": [
        "# **V. Ưu nhược điểm của phương pháp tối ưu.**"
      ],
      "metadata": {
        "id": "lx9pMhbjrunj"
      }
    },
    {
      "cell_type": "markdown",
      "source": [
        "**Ưu điểm của phương pháp tối ưu Gradient Descent (GD):**\n",
        "\n",
        "Đơn giản và dễ hiểu: Gradient Descent là một phương pháp tối ưu đơn giản và dễ hiểu. Nó chỉ yêu cầu tính đạo hàm đơn giản của hàm mất mát, và cập nhật các tham số theo hướng giảm độ dốc của đạo hàm.\n",
        "\n",
        "Hiệu quả tính toán: GD thường được sử dụng trong nhiều mô hình học máy công nghệ cao, bởi vì nó có thể xử lý tập dữ liệu lớn một cách hiệu quả. Việc tính toán gradient chỉ phụ thuộc vào kích thước của batch, và không yêu cầu tính toán ma trận đầy đủ.\n",
        "\n",
        "Hội tụ tới điểm tối ưu cục bộ: Nếu được cài đặt đúng, GD có khả năng hội tụ tới điểm tối ưu cục bộ. Nếu hàm mất mát là lồi và tốt hơn, GD có thể cung cấp giải pháp tối ưu đối tượng.\n",
        "\n",
        "**Nhược điểm của phương pháp tối ưu Gradient Descent (GD):**\n",
        "\n",
        "Tốc độ hội tụ chậm: GD có thể hội tụ chậm đối với một số bài toán, đặc biệt là khi hàm mất mát có đặc trưng vùng trong lỏng lẻo hoặc bề mặt lõm. Việc cập nhật các tham số trên toàn bộ dữ liệu có thể cần nhiều vòng lặp để đạt điểm tối ưu.\n",
        "Momentum Based Gradient Descent (GD với đà):\n"
      ],
      "metadata": {
        "id": "FuW_xEWssFpU"
      }
    },
    {
      "cell_type": "markdown",
      "source": [
        "**Ưu điểm Momentum Based GD** có thể giúp cải thiện tốc độ hội tụ của GD. Bằng cách tích lũy đà từ các bước trước, nó có khả năng vượt qua các mục tiêu hẹp và giảm thiểu trỗi dạng cục bộ, đồng thời giảm ảnh hưởng của các điểm nhiễu trên đường đi hội tụ.\n",
        "\n",
        "**Nhược điểm Momentum Based GD**: Mặc dù hiệu quả hơn so với GD cơ bản, tuy nhiên không phải lúc nào Momentum Based GD cũng tốt hơn. Trong một số trường hợp, điều này có thể gây ra quá đà, kéo dài thời gian hội tụ hoặc không hội tụ tới điểm tối ưu. Bên cạnh đó, việc điều chỉnh thông số đà có thể không dễ dàng và yêu cầu thử nghiệm."
      ],
      "metadata": {
        "id": "QrEJ5YEasdyM"
      }
    }
  ]
}