{
  "nbformat": 4,
  "nbformat_minor": 0,
  "metadata": {
    "colab": {
      "provenance": [],
      "authorship_tag": "ABX9TyM7CJuyhm7Owt2hYhztA3UT",
      "include_colab_link": true
    },
    "kernelspec": {
      "name": "python3",
      "display_name": "Python 3"
    },
    "language_info": {
      "name": "python"
    }
  },
  "cells": [
    {
      "cell_type": "markdown",
      "metadata": {
        "id": "view-in-github",
        "colab_type": "text"
      },
      "source": [
        "<a href=\"https://colab.research.google.com/github/viett887g/2023-10-27-baitapML/blob/main/bai_tap_ngay_20231027.ipynb\" target=\"_parent\"><img src=\"https://colab.research.google.com/assets/colab-badge.svg\" alt=\"Open In Colab\"/></a>"
      ]
    },
    {
      "cell_type": "markdown",
      "source": [
        "1 Chuẩn bị dữ liệu đầu vào và đầu ra.\n",
        "\n",
        "2 Chia dữ liệu thành bộ train và bộ test để đánh giá hiệu suất của mô hình.\n",
        "\n",
        "3 Khởi tạo mô hình Linear Regression.\n",
        "\n",
        "4 Sử dụng phương thức fit() để huấn luyện mô hình trên dữ liệu train.\n",
        "\n",
        "5 Sử dụng phương thức predict() để dự đoán đầu ra cho dữ liệu test.\n",
        "\n",
        "6 Đánh giá mô hình bằng cách tính toán độ lỗi (như Mean Squared Error).\n",
        "\n",
        "7 Kiểm tra các hệ số hồi quy để hiểu mối quan hệ tuyến tính giữa các biến đầu vào và đầu ra."
      ],
      "metadata": {
        "id": "9vjEwLtxyJpJ"
      }
    },
    {
      "cell_type": "markdown",
      "source": [
        "# **I. Chọn dataset (image: MNIST)**"
      ],
      "metadata": {
        "id": "RMVXuAnI0-7d"
      }
    },
    {
      "cell_type": "code",
      "execution_count": 46,
      "metadata": {
        "id": "RdknLPqowz6J"
      },
      "outputs": [],
      "source": [
        "from sklearn import datasets\n",
        "import matplotlib.pyplot as plt\n",
        "import tensorflow as tf\n",
        "from sklearn.model_selection import train_test_split\n",
        "from sklearn.preprocessing import StandardScaler\n",
        "import numpy as np\n",
        "from __future__ import print_function\n",
        "\n",
        "from sklearn import neighbors, datasets\n",
        "from sklearn.metrics import accuracy_score,precision_score,recall_score,f1_score"
      ]
    },
    {
      "cell_type": "markdown",
      "source": [
        "# **II. Chọn 2-3 thuật toán để tối ưu hoá (SVM; LR)**"
      ],
      "metadata": {
        "id": "YlhXCpdm1uRG"
      }
    },
    {
      "cell_type": "markdown",
      "source": [
        "# ***2.Sử dụng hồi quy softmax để tối ưu***"
      ],
      "metadata": {
        "id": "6PygncuS1Nhg"
      }
    },
    {
      "cell_type": "code",
      "source": [
        "# Chuẩn bị dữ liệu\n",
        "iris = datasets.load_iris()\n",
        "features = iris.data\n",
        "labels = iris.target\n",
        "\n",
        "# Tiền xử lý dữ liệu\n",
        "scaler = StandardScaler()\n",
        "features = scaler.fit_transform(features)\n",
        "\n",
        "# Chia dữ liệu thành tập huấn luyện và tập kiểm tra\n",
        "X_train, X_test, y_train, y_test = train_test_split(features, labels, test_size=0.2, random_state=42)\n",
        "\n",
        "# Xây dựng mô hình mạng nơ-ron\n",
        "model = tf.keras.models.Sequential([\n",
        "    tf.keras.layers.Dense(32, activation='relu', input_shape=(4,)),\n",
        "    tf.keras.layers.Dense(64, activation='relu'),\n",
        "    tf.keras.layers.Dense(3, activation='softmax')\n",
        "])\n",
        "\n",
        "# Compile mô hình\n",
        "model.compile(loss='sparse_categorical_crossentropy', optimizer='adam', metrics=['accuracy'])\n",
        "\n",
        "# Huấn luyện mô hình\n",
        "model.fit(X_train, y_train, epochs=10, validation_data=(X_test, y_test))\n",
        "\n",
        "# Dự đoán nhãn cho dữ liệu kiểm tra\n",
        "y_pred = np.argmax(model.predict(X_test), axis=1)\n"
      ],
      "metadata": {
        "colab": {
          "base_uri": "https://localhost:8080/"
        },
        "id": "eq4kX8K81FfX",
        "outputId": "cf4f783a-290d-4754-ebaa-7f5d11cddcee"
      },
      "execution_count": 52,
      "outputs": [
        {
          "output_type": "stream",
          "name": "stdout",
          "text": [
            "Epoch 1/10\n",
            "4/4 [==============================] - 1s 38ms/step - loss: 1.1395 - accuracy: 0.3250 - val_loss: 1.0191 - val_accuracy: 0.4000\n",
            "Epoch 2/10\n",
            "4/4 [==============================] - 0s 9ms/step - loss: 1.0336 - accuracy: 0.3250 - val_loss: 0.9259 - val_accuracy: 0.4667\n",
            "Epoch 3/10\n",
            "4/4 [==============================] - 0s 9ms/step - loss: 0.9402 - accuracy: 0.5333 - val_loss: 0.8479 - val_accuracy: 0.7000\n",
            "Epoch 4/10\n",
            "4/4 [==============================] - 0s 8ms/step - loss: 0.8645 - accuracy: 0.6917 - val_loss: 0.7814 - val_accuracy: 0.7333\n",
            "Epoch 5/10\n",
            "4/4 [==============================] - 0s 9ms/step - loss: 0.8021 - accuracy: 0.7667 - val_loss: 0.7229 - val_accuracy: 0.7667\n",
            "Epoch 6/10\n",
            "4/4 [==============================] - 0s 9ms/step - loss: 0.7478 - accuracy: 0.7917 - val_loss: 0.6701 - val_accuracy: 0.7667\n",
            "Epoch 7/10\n",
            "4/4 [==============================] - 0s 8ms/step - loss: 0.6950 - accuracy: 0.8000 - val_loss: 0.6235 - val_accuracy: 0.8000\n",
            "Epoch 8/10\n",
            "4/4 [==============================] - 0s 8ms/step - loss: 0.6522 - accuracy: 0.8083 - val_loss: 0.5810 - val_accuracy: 0.8000\n",
            "Epoch 9/10\n",
            "4/4 [==============================] - 0s 10ms/step - loss: 0.6130 - accuracy: 0.8083 - val_loss: 0.5419 - val_accuracy: 0.8333\n",
            "Epoch 10/10\n",
            "4/4 [==============================] - 0s 8ms/step - loss: 0.5763 - accuracy: 0.8083 - val_loss: 0.5067 - val_accuracy: 0.8333\n",
            "1/1 [==============================] - 0s 38ms/step\n"
          ]
        }
      ]
    },
    {
      "cell_type": "code",
      "source": [
        "# Chuẩn bị dữ liệu\n",
        "iris = datasets.load_iris()\n",
        "features = iris.data\n",
        "labels = iris.target\n",
        "\n",
        "# Tiền xử lý dữ liệu\n",
        "scaler = StandardScaler()\n",
        "features = scaler.fit_transform(features)\n",
        "\n",
        "# Chia dữ liệu thành tập huấn luyện và tập kiểm tra\n",
        "X_train, X_test, y_train, y_test = train_test_split(features, labels, test_size=0.2, random_state=42)\n",
        "\n",
        "# Xây dựng mô hình mạng nơ-ron\n",
        "model = tf.keras.models.Sequential([\n",
        "    tf.keras.layers.Dense(32, activation='relu', input_shape=(4,)),\n",
        "    tf.keras.layers.Dense(64, activation='relu'),\n",
        "    tf.keras.layers.Dense(3, activation='softmax')\n",
        "])\n",
        "\n",
        "# Compile mô hình\n",
        "model.compile(loss='sparse_categorical_crossentropy', optimizer='RMSProp', metrics=['accuracy'])\n",
        "\n",
        "# Huấn luyện mô hình\n",
        "model.fit(X_train, y_train, epochs=10, validation_data=(X_test, y_test))\n",
        "\n",
        "# Dự đoán nhãn cho dữ liệu kiểm tra\n",
        "y_pred = np.argmax(model.predict(X_test), axis=1)"
      ],
      "metadata": {
        "colab": {
          "base_uri": "https://localhost:8080/"
        },
        "id": "RhLPFnFfCMmt",
        "outputId": "35fa7aaf-4419-4a1b-8d64-c2edfcb19333"
      },
      "execution_count": 54,
      "outputs": [
        {
          "output_type": "stream",
          "name": "stdout",
          "text": [
            "Epoch 1/10\n",
            "4/4 [==============================] - 0s 39ms/step - loss: 1.2350 - accuracy: 0.1583 - val_loss: 1.0732 - val_accuracy: 0.2667\n",
            "Epoch 2/10\n",
            "4/4 [==============================] - 0s 7ms/step - loss: 1.0678 - accuracy: 0.3417 - val_loss: 0.9534 - val_accuracy: 0.6000\n",
            "Epoch 3/10\n",
            "4/4 [==============================] - 0s 7ms/step - loss: 0.9646 - accuracy: 0.5250 - val_loss: 0.8657 - val_accuracy: 0.7333\n",
            "Epoch 4/10\n",
            "4/4 [==============================] - 0s 7ms/step - loss: 0.8880 - accuracy: 0.7500 - val_loss: 0.7948 - val_accuracy: 0.8333\n",
            "Epoch 5/10\n",
            "4/4 [==============================] - 0s 7ms/step - loss: 0.8225 - accuracy: 0.8167 - val_loss: 0.7332 - val_accuracy: 0.8667\n",
            "Epoch 6/10\n",
            "4/4 [==============================] - 0s 7ms/step - loss: 0.7641 - accuracy: 0.8250 - val_loss: 0.6773 - val_accuracy: 0.8667\n",
            "Epoch 7/10\n",
            "4/4 [==============================] - 0s 8ms/step - loss: 0.7124 - accuracy: 0.8250 - val_loss: 0.6298 - val_accuracy: 0.8667\n",
            "Epoch 8/10\n",
            "4/4 [==============================] - 0s 7ms/step - loss: 0.6670 - accuracy: 0.8250 - val_loss: 0.5839 - val_accuracy: 0.8667\n",
            "Epoch 9/10\n",
            "4/4 [==============================] - 0s 7ms/step - loss: 0.6248 - accuracy: 0.8250 - val_loss: 0.5430 - val_accuracy: 0.9000\n",
            "Epoch 10/10\n",
            "4/4 [==============================] - 0s 7ms/step - loss: 0.5859 - accuracy: 0.8250 - val_loss: 0.5058 - val_accuracy: 0.9000\n",
            "1/1 [==============================] - 0s 38ms/step\n"
          ]
        }
      ]
    },
    {
      "cell_type": "markdown",
      "source": [
        "# **III. So sánh hiệu suất của các thuật toán**"
      ],
      "metadata": {
        "id": "z6STyTHV11K-"
      }
    },
    {
      "cell_type": "markdown",
      "source": [
        "# **2.thuật toán hồi quy softmax**"
      ],
      "metadata": {
        "id": "UoU319Bi5E4A"
      }
    },
    {
      "cell_type": "code",
      "source": [
        "# Đánh giá độ chính xác\n",
        "accuracy = model.evaluate(X_test, y_test)[1]\n",
        "print(\"độ đo chính xác Accuracy:\", accuracy)\n",
        "ps_sfm =precision_score(y_test, y_pred, average='weighted')\n",
        "rc_sfm = recall_score(y_test, y_pred, average='weighted')\n",
        "f1_sfm = 2 * (ps_sfm * rc_sfm)/(ps_sfm + rc_sfm)\n",
        "data_score_softmax = [ps_sfm,rc_sfm,f1_sfm]\n",
        "label = ['precision', 'recall', 'f1']\n",
        "for i in range(len(label)):\n",
        "  print('hiệu suất mô hình hồi quy softmax',label[i], 'sử dụng adam đạt hiệu suất là' , data_score_softmax[i])\n"
      ],
      "metadata": {
        "colab": {
          "base_uri": "https://localhost:8080/"
        },
        "id": "0KWP5bPa7C3G",
        "outputId": "1178f4ba-cacd-468f-e540-aab22de58a23"
      },
      "execution_count": 53,
      "outputs": [
        {
          "output_type": "stream",
          "name": "stdout",
          "text": [
            "1/1 [==============================] - 0s 16ms/step - loss: 0.5067 - accuracy: 0.8333\n",
            "độ đo chính xác Accuracy: 0.8333333134651184\n",
            "hiệu suất mô hình hồi quy softmax precision sử dụng adam đạt hiệu suất là 0.8854166666666666\n",
            "hiệu suất mô hình hồi quy softmax recall sử dụng adam đạt hiệu suất là 0.8333333333333334\n",
            "hiệu suất mô hình hồi quy softmax f1 sử dụng adam đạt hiệu suất là 0.8585858585858586\n"
          ]
        }
      ]
    },
    {
      "cell_type": "code",
      "source": [
        "# Đánh giá độ chính xác\n",
        "accuracy = model.evaluate(X_test, y_test)[1]\n",
        "print(\"độ đo chính xác Accuracy:\", accuracy)\n",
        "ps_sfm =precision_score(y_test, y_pred, average='weighted')\n",
        "rc_sfm = recall_score(y_test, y_pred, average='weighted')\n",
        "f1_sfm = 2 * (ps_sfm * rc_sfm)/(ps_sfm + rc_sfm)\n",
        "data_score_softmax = [ps_sfm,rc_sfm,f1_sfm]\n",
        "label = ['precision', 'recall', 'f1']\n",
        "for i in range(len(label)):\n",
        "  print('hiệu suất mô hình hồi quy softmax',label[i], 'sử dụng RMSProp đạt hiệu suất là' , data_score_softmax[i])"
      ],
      "metadata": {
        "colab": {
          "base_uri": "https://localhost:8080/"
        },
        "id": "5-EfUQ6KCbRz",
        "outputId": "cf808344-2366-4a46-ff17-02ab6e04d10f"
      },
      "execution_count": 55,
      "outputs": [
        {
          "output_type": "stream",
          "name": "stdout",
          "text": [
            "1/1 [==============================] - 0s 16ms/step - loss: 0.5058 - accuracy: 0.9000\n",
            "độ đo chính xác Accuracy: 0.8999999761581421\n",
            "hiệu suất mô hình hồi quy softmax precision sử dụng RMSProp đạt hiệu suất là 0.9214285714285714\n",
            "hiệu suất mô hình hồi quy softmax recall sử dụng RMSProp đạt hiệu suất là 0.9\n",
            "hiệu suất mô hình hồi quy softmax f1 sử dụng RMSProp đạt hiệu suất là 0.9105882352941177\n"
          ]
        }
      ]
    },
    {
      "cell_type": "markdown",
      "source": [
        "# **Kết luận**\n",
        "\n",
        "Dựa trên các giá trị này, mô hình sử dụng  RMSProp có hiệu suất tốt khi xét đến các độ đo như accuracy, precision, recall và F1-score. Mô hình hồi quy soft max sử dụng RMSProp đạt hiệu suất cao nhất trong tất cả các chỉ số này."
      ],
      "metadata": {
        "id": "uVdEkXWJ9u2v"
      }
    },
    {
      "cell_type": "markdown",
      "source": [
        "# ***IV.Ưu nhược điểm của thuật toán***"
      ],
      "metadata": {
        "id": "JBrrh0CX8sWX"
      }
    },
    {
      "cell_type": "markdown",
      "source": [
        "# ***1.Adam***"
      ],
      "metadata": {
        "id": "V5Kfp-zgDmfL"
      }
    },
    {
      "cell_type": "markdown",
      "source": [
        "# **Ưu điểm**\n",
        "\n",
        "Hiệu suất cao: Adam kết hợp cả hai phương pháp tối ưu hóa Momentum và RMSprop. Điều này giúp thuật toán quản lý được vấn đề xáo trộn trong quá trình tối ưu hóa và tăng tốc độ hội tụ của mô hình.\n",
        "Tính tự động thích ứng: Adam tự động điều chỉnh tỉ lệ học tập (learning rate) cho từng tham số trong mô hình. Nó đảm bảo rằng các tham số có tỉ lệ học tập phù hợp với độ lớn của gradient tương ứng, giúp mô hình hội tụ nhanh hơn và ổn định hơn.\n",
        "Hiệu quả với dữ liệu lớn và không đồng nhất: Adam có khả năng xử lý được các tập dữ liệu lớn và không đồng nhất. Tỷ lệ học tập tự động điều chỉnh giúp thuật toán khá ổn định trong quá trình tối ưu hóa.\n",
        "# **Nhược điểm:**\n",
        "\n",
        "Đòi hỏi cài đặt thích hợp của siêu tham số: Adam có hai siêu tham số quan trọng là beta1 và beta2, được sử dụng để tính toán các ước lượng của độ mất mát và độ lớn của gradient. Điều này đòi hỏi người dùng cần thử nghiệm và điều chỉnh các siêu tham số này để đạt hiệu quả tốt nhất cho bài toán cụ thể.\n",
        "Nhạy cảm với các thay đổi dữ liệu: Adam có thể nhạy cảm với các thay đổi đột ngột trong dữ liệu. Điều này có thể khiến năng suất của thuật toán bị giảm trong quá trình học khi dữ liệu thay đổi mạnh."
      ],
      "metadata": {
        "id": "b5VCYI-XDsQD"
      }
    },
    {
      "cell_type": "markdown",
      "source": [
        "# **2.RMSProp **"
      ],
      "metadata": {
        "id": "D1VOPKptES88"
      }
    },
    {
      "cell_type": "markdown",
      "source": [
        "# **Ưu điểm:**\n",
        "\n",
        "Hiệu quả trong tối ưu hóa: RMSProp rất hiệu quả trong việc tối ưu hóa mô hình. Nó kết hợp cả hai phương pháp tối ưu hóa Momentum và tỉ lệ học tập AdaGrad. Điều này giúp thuật toán xử lý tốt vấn đề khủng hoảng và hội tụ nhanh chóng hơn.\n",
        "\n",
        "Tính chất tự động điều chỉnh: RMSProp có khả năng tự động điều chỉnh tỉ lệ học tập cho từng tham số trong mô hình. Nó sử dụng trung bình có trọng số của độ lớn của gradient để điều chỉnh tỉ lệ học tập. Điều này giúp hạn chế ảnh hưởng của các tham số có gradient lớn đến ổn định của quá trình tối ưu hóa.\n",
        "\n",
        "Hiệu quả với dữ liệu lớn: RMSProp áp dụng trọng số giảm gradient cho các thông tin lâu dài và giữ lại các thông tin mới nhất. Điều này giúp thuật toán đạt hiệu quả tốt với các tập dữ liệu lớn.\n",
        "\n",
        "# **Nhược điểm:**\n",
        "\n",
        "Nhạy cảm với tỉ lệ học tập ban đầu: RMSProp có thể nhạy cảm với tỉ lệ học tập ban đầu của nó. Nếu tỉ lệ học tập ban đầu được đặt quá cao hoặc quá thấp, nó có thể dẫn đến kết quả không tốt trong quá trình tối ưu hóa.\n",
        "\n",
        "Đòi hỏi cài đặt siêu tham số phù hợp: Thuật toán RMSProp có một siêu tham số quan trọng là epsilon, được sử dụng để ngăn chặn việc chia cho không trong quá trình tính toán. Điều này đòi hỏi người dùng phải điều chỉnh siêu tham số này một cách cẩn thận để đảm bảo hiệu quả tối ưu tốt nhất."
      ],
      "metadata": {
        "id": "hG-ofhJUEOeb"
      }
    }
  ]
}