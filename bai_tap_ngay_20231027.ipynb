{
  "nbformat": 4,
  "nbformat_minor": 0,
  "metadata": {
    "colab": {
      "provenance": [],
      "authorship_tag": "ABX9TyMeuCo3GKw/7pmNIpN6J36j",
      "include_colab_link": true
    },
    "kernelspec": {
      "name": "python3",
      "display_name": "Python 3"
    },
    "language_info": {
      "name": "python"
    }
  },
  "cells": [
    {
      "cell_type": "markdown",
      "metadata": {
        "id": "view-in-github",
        "colab_type": "text"
      },
      "source": [
        "<a href=\"https://colab.research.google.com/github/viett887g/2023-10-27-baitapML/blob/main/bai_tap_ngay_20231027.ipynb\" target=\"_parent\"><img src=\"https://colab.research.google.com/assets/colab-badge.svg\" alt=\"Open In Colab\"/></a>"
      ]
    },
    {
      "cell_type": "markdown",
      "source": [
        "# **I. Chọn dataset (image: MNIST)**"
      ],
      "metadata": {
        "id": "RMVXuAnI0-7d"
      }
    },
    {
      "cell_type": "code",
      "execution_count": 4,
      "metadata": {
        "id": "RdknLPqowz6J"
      },
      "outputs": [],
      "source": [
        "from sklearn import datasets\n",
        "import matplotlib.pyplot as plt\n",
        "import tensorflow as tf\n",
        "from sklearn.model_selection import train_test_split\n",
        "from sklearn.preprocessing import StandardScaler\n",
        "import numpy as np\n",
        "from __future__ import print_function\n",
        "\n",
        "from sklearn import neighbors, datasets\n",
        "from sklearn.metrics import accuracy_score,precision_score,recall_score,f1_score\n",
        "from tensorflow import keras"
      ]
    },
    {
      "cell_type": "markdown",
      "source": [
        "# **II. Chọn 2-3 thuật toán để tối ưu hoá (SVM; LR)**"
      ],
      "metadata": {
        "id": "YlhXCpdm1uRG"
      }
    },
    {
      "cell_type": "markdown",
      "source": [
        "# ***2.Sử dụng hồi quy softmax để tối ưu***"
      ],
      "metadata": {
        "id": "6PygncuS1Nhg"
      }
    },
    {
      "cell_type": "code",
      "source": [
        "(X_train, y_train), (X_test, y_test) = keras.datasets.mnist.load_data()\n",
        "X_train = X_train / 255.0\n",
        "X_test = X_test / 255.0"
      ],
      "metadata": {
        "id": "iwq2wAnTEePE"
      },
      "execution_count": 21,
      "outputs": []
    },
    {
      "cell_type": "code",
      "source": [
        "# Xây dựng mô hình CNN\n",
        "model = keras.models.Sequential([\n",
        "    keras.layers.Conv2D(32, (3, 3), activation='relu', input_shape=(28, 28, 1)),\n",
        "    keras.layers.MaxPooling2D((2, 2)),\n",
        "    keras.layers.Flatten(),\n",
        "    keras.layers.Dense(64, activation='relu'),\n",
        "    keras.layers.Dense(10, activation='softmax')\n",
        "])\n",
        "\n",
        "# Biên dịch mô hình\n",
        "model.compile(optimizer='adam', loss='sparse_categorical_crossentropy', metrics=['accuracy'])\n",
        "\n",
        "# Huấn luyện mô hình\n",
        "model.fit(X_train.reshape(-1, 28, 28, 1), y_train, epochs=10, validation_data=(X_test.reshape(-1, 28, 28, 1), y_test))"
      ],
      "metadata": {
        "colab": {
          "base_uri": "https://localhost:8080/"
        },
        "id": "eq4kX8K81FfX",
        "outputId": "365cff70-96b7-4673-c759-42ca9585503f"
      },
      "execution_count": 10,
      "outputs": [
        {
          "output_type": "stream",
          "name": "stdout",
          "text": [
            "Epoch 1/10\n",
            "1875/1875 [==============================] - 36s 18ms/step - loss: 0.1680 - accuracy: 0.9510 - val_loss: 0.0700 - val_accuracy: 0.9796\n",
            "Epoch 2/10\n",
            "1875/1875 [==============================] - 35s 18ms/step - loss: 0.0586 - accuracy: 0.9823 - val_loss: 0.0504 - val_accuracy: 0.9837\n",
            "Epoch 3/10\n",
            "1875/1875 [==============================] - 35s 18ms/step - loss: 0.0389 - accuracy: 0.9882 - val_loss: 0.0512 - val_accuracy: 0.9833\n",
            "Epoch 4/10\n",
            "1875/1875 [==============================] - 38s 20ms/step - loss: 0.0273 - accuracy: 0.9913 - val_loss: 0.0464 - val_accuracy: 0.9857\n",
            "Epoch 5/10\n",
            "1875/1875 [==============================] - 33s 18ms/step - loss: 0.0201 - accuracy: 0.9934 - val_loss: 0.0424 - val_accuracy: 0.9870\n",
            "Epoch 6/10\n",
            "1875/1875 [==============================] - 37s 20ms/step - loss: 0.0139 - accuracy: 0.9956 - val_loss: 0.0523 - val_accuracy: 0.9856\n",
            "Epoch 7/10\n",
            "1875/1875 [==============================] - 34s 18ms/step - loss: 0.0109 - accuracy: 0.9962 - val_loss: 0.0527 - val_accuracy: 0.9852\n",
            "Epoch 8/10\n",
            "1875/1875 [==============================] - 38s 20ms/step - loss: 0.0085 - accuracy: 0.9972 - val_loss: 0.0582 - val_accuracy: 0.9855\n",
            "Epoch 9/10\n",
            "1875/1875 [==============================] - 38s 20ms/step - loss: 0.0065 - accuracy: 0.9979 - val_loss: 0.0433 - val_accuracy: 0.9893\n",
            "Epoch 10/10\n",
            "1875/1875 [==============================] - 32s 17ms/step - loss: 0.0056 - accuracy: 0.9982 - val_loss: 0.0768 - val_accuracy: 0.9827\n"
          ]
        },
        {
          "output_type": "execute_result",
          "data": {
            "text/plain": [
              "<keras.src.callbacks.History at 0x78a6ea408ac0>"
            ]
          },
          "metadata": {},
          "execution_count": 10
        }
      ]
    },
    {
      "cell_type": "code",
      "source": [
        "y_pred = np.argmax(model.predict(X_test), axis=1)"
      ],
      "metadata": {
        "colab": {
          "base_uri": "https://localhost:8080/"
        },
        "id": "iQzzMZTSGOgt",
        "outputId": "19a3083e-8cd6-4794-8b38-3c46cc82638d"
      },
      "execution_count": 11,
      "outputs": [
        {
          "output_type": "stream",
          "name": "stdout",
          "text": [
            "313/313 [==============================] - 2s 5ms/step\n"
          ]
        }
      ]
    },
    {
      "cell_type": "code",
      "source": [
        "# Xây dựng mô hình CNN\n",
        "model = keras.models.Sequential([\n",
        "    keras.layers.Conv2D(32, (3, 3), activation='relu', input_shape=(28, 28, 1)),\n",
        "    keras.layers.MaxPooling2D((2, 2)),\n",
        "    keras.layers.Flatten(),\n",
        "    keras.layers.Dense(64, activation='relu'),\n",
        "    keras.layers.Dense(10, activation='softmax')\n",
        "])\n",
        "\n",
        "# Biên dịch mô hình\n",
        "model.compile(optimizer='RMSProp', loss='sparse_categorical_crossentropy', metrics=['accuracy'])\n",
        "\n",
        "# Huấn luyện mô hình\n",
        "model.fit(X_train.reshape(-1, 28, 28, 1), y_train, epochs=10, validation_data=(X_test.reshape(-1, 28, 28, 1), y_test))"
      ],
      "metadata": {
        "colab": {
          "base_uri": "https://localhost:8080/"
        },
        "id": "KzPtuym_G-ZF",
        "outputId": "14095902-93fd-4d8c-9b83-7be397f85878"
      },
      "execution_count": 23,
      "outputs": [
        {
          "output_type": "stream",
          "name": "stdout",
          "text": [
            "Epoch 1/10\n",
            "1875/1875 [==============================] - 46s 24ms/step - loss: 0.1771 - accuracy: 0.9478 - val_loss: 0.0648 - val_accuracy: 0.9785\n",
            "Epoch 2/10\n",
            "1875/1875 [==============================] - 33s 18ms/step - loss: 0.0604 - accuracy: 0.9818 - val_loss: 0.0510 - val_accuracy: 0.9830\n",
            "Epoch 3/10\n",
            "1875/1875 [==============================] - 32s 17ms/step - loss: 0.0408 - accuracy: 0.9877 - val_loss: 0.0465 - val_accuracy: 0.9839\n",
            "Epoch 4/10\n",
            "1875/1875 [==============================] - 32s 17ms/step - loss: 0.0306 - accuracy: 0.9909 - val_loss: 0.0426 - val_accuracy: 0.9859\n",
            "Epoch 5/10\n",
            "1875/1875 [==============================] - 32s 17ms/step - loss: 0.0230 - accuracy: 0.9934 - val_loss: 0.0451 - val_accuracy: 0.9870\n",
            "Epoch 6/10\n",
            "1875/1875 [==============================] - 31s 17ms/step - loss: 0.0180 - accuracy: 0.9946 - val_loss: 0.0542 - val_accuracy: 0.9849\n",
            "Epoch 7/10\n",
            "1875/1875 [==============================] - 32s 17ms/step - loss: 0.0141 - accuracy: 0.9962 - val_loss: 0.0424 - val_accuracy: 0.9878\n",
            "Epoch 8/10\n",
            "1875/1875 [==============================] - 32s 17ms/step - loss: 0.0113 - accuracy: 0.9969 - val_loss: 0.0568 - val_accuracy: 0.9863\n",
            "Epoch 9/10\n",
            "1875/1875 [==============================] - 31s 16ms/step - loss: 0.0090 - accuracy: 0.9975 - val_loss: 0.0528 - val_accuracy: 0.9880\n",
            "Epoch 10/10\n",
            "1875/1875 [==============================] - 32s 17ms/step - loss: 0.0065 - accuracy: 0.9981 - val_loss: 0.0539 - val_accuracy: 0.9881\n"
          ]
        },
        {
          "output_type": "execute_result",
          "data": {
            "text/plain": [
              "<keras.src.callbacks.History at 0x78a6e6689960>"
            ]
          },
          "metadata": {},
          "execution_count": 23
        }
      ]
    },
    {
      "cell_type": "code",
      "source": [
        "y_pred = np.argmax(model.predict(X_test), axis=1)"
      ],
      "metadata": {
        "colab": {
          "base_uri": "https://localhost:8080/"
        },
        "id": "Z1IrZ9ntJMVb",
        "outputId": "120edbd4-fe77-4e64-e195-6bb5e18359f2"
      },
      "execution_count": 24,
      "outputs": [
        {
          "output_type": "stream",
          "name": "stdout",
          "text": [
            "313/313 [==============================] - 2s 6ms/step\n"
          ]
        }
      ]
    },
    {
      "cell_type": "markdown",
      "source": [
        "# **III. So sánh hiệu suất của các thuật toán**"
      ],
      "metadata": {
        "id": "z6STyTHV11K-"
      }
    },
    {
      "cell_type": "markdown",
      "source": [
        "# **1.Adam**"
      ],
      "metadata": {
        "id": "UoU319Bi5E4A"
      }
    },
    {
      "cell_type": "code",
      "source": [
        "# Đánh giá độ chính xác\n",
        "test_loss, test_acc = model.evaluate(X_test.reshape(-1, 28, 28, 1), y_test)\n",
        "print('Độ chính xác trên tập kiểm tra:', test_acc)\n",
        "ps_sfm =precision_score(y_test, y_pred, average='weighted')\n",
        "rc_sfm = recall_score(y_test, y_pred, average='weighted')\n",
        "f1_sfm = 2 * (ps_sfm * rc_sfm)/(ps_sfm + rc_sfm)\n",
        "data_score_softmax = [ps_sfm,rc_sfm,f1_sfm]\n",
        "label = ['precision', 'recall', 'f1']\n",
        "for i in range(len(label)):\n",
        "  print('hiệu suất mô hình hồi quy softmax',label[i], 'sử dụng adam đạt hiệu suất là' , data_score_softmax[i])\n"
      ],
      "metadata": {
        "colab": {
          "base_uri": "https://localhost:8080/"
        },
        "id": "0KWP5bPa7C3G",
        "outputId": "d243dc51-e7fd-4fa7-cd40-9d303f930b58"
      },
      "execution_count": 15,
      "outputs": [
        {
          "output_type": "stream",
          "name": "stdout",
          "text": [
            "313/313 [==============================] - 3s 10ms/step - loss: 0.0768 - accuracy: 0.9827\n",
            "Độ chính xác trên tập kiểm tra: 0.982699990272522\n",
            "hiệu suất mô hình hồi quy softmax precision sử dụng adam đạt hiệu suất là 0.9827983263253285\n",
            "hiệu suất mô hình hồi quy softmax recall sử dụng adam đạt hiệu suất là 0.9827\n",
            "hiệu suất mô hình hồi quy softmax f1 sử dụng adam đạt hiệu suất là 0.9827491607032202\n"
          ]
        }
      ]
    },
    {
      "cell_type": "markdown",
      "source": [
        "# **2.RMSProp**"
      ],
      "metadata": {
        "id": "kyxS3GzjHtXb"
      }
    },
    {
      "cell_type": "code",
      "source": [
        "# Đánh giá độ chính xác\n",
        "test_loss, test_acc = model.evaluate(X_test.reshape(-1, 28, 28, 1), y_test)\n",
        "print('Độ chính xác trên tập kiểm tra:', test_acc)\n",
        "ps_sfm =precision_score(y_test, y_pred, average='weighted')\n",
        "rc_sfm = recall_score(y_test, y_pred, average='weighted')\n",
        "f1_sfm = 2 * (ps_sfm * rc_sfm)/(ps_sfm + rc_sfm)\n",
        "data_score_softmax = [ps_sfm,rc_sfm,f1_sfm]\n",
        "label = ['precision', 'recall', 'f1']\n",
        "for i in range(len(label)):\n",
        "  print('hiệu suất mô hình hồi quy softmax',label[i], 'sử dụng RMSProp đạt hiệu suất là' , data_score_softmax[i])\n"
      ],
      "metadata": {
        "colab": {
          "base_uri": "https://localhost:8080/"
        },
        "id": "5-EfUQ6KCbRz",
        "outputId": "2298d7a6-8fb9-489e-c89f-a98bd3e08685"
      },
      "execution_count": 25,
      "outputs": [
        {
          "output_type": "stream",
          "name": "stdout",
          "text": [
            "313/313 [==============================] - 4s 12ms/step - loss: 0.0539 - accuracy: 0.9881\n",
            "Độ chính xác trên tập kiểm tra: 0.988099992275238\n",
            "hiệu suất mô hình hồi quy softmax precision sử dụng RMSProp đạt hiệu suất là 0.9881193401980372\n",
            "hiệu suất mô hình hồi quy softmax recall sử dụng RMSProp đạt hiệu suất là 0.9881\n",
            "hiệu suất mô hình hồi quy softmax f1 sử dụng RMSProp đạt hiệu suất là 0.9881096700043824\n"
          ]
        }
      ]
    },
    {
      "cell_type": "markdown",
      "source": [
        "# **Kết luận**\n",
        "\n",
        "Dựa trên các giá trị này, mô hình sử dụng  RMSProp có hiệu suất tốt khi xét đến các độ đo như accuracy, precision, recall và F1-score. Mô hình hồi quy soft max sử dụng RMSProp đạt hiệu suất cao nhất trong tất cả các chỉ số này."
      ],
      "metadata": {
        "id": "uVdEkXWJ9u2v"
      }
    },
    {
      "cell_type": "markdown",
      "source": [
        "# ***IV.Ưu nhược điểm của thuật toán***"
      ],
      "metadata": {
        "id": "JBrrh0CX8sWX"
      }
    },
    {
      "cell_type": "markdown",
      "source": [
        "# ***1.Adam***"
      ],
      "metadata": {
        "id": "V5Kfp-zgDmfL"
      }
    },
    {
      "cell_type": "markdown",
      "source": [
        "# **Ưu điểm**\n",
        "\n",
        "Hiệu suất cao: Adam kết hợp cả hai phương pháp tối ưu hóa Momentum và RMSprop. Điều này giúp thuật toán quản lý được vấn đề xáo trộn trong quá trình tối ưu hóa và tăng tốc độ hội tụ của mô hình.\n",
        "Tính tự động thích ứng: Adam tự động điều chỉnh tỉ lệ học tập (learning rate) cho từng tham số trong mô hình. Nó đảm bảo rằng các tham số có tỉ lệ học tập phù hợp với độ lớn của gradient tương ứng, giúp mô hình hội tụ nhanh hơn và ổn định hơn.\n",
        "Hiệu quả với dữ liệu lớn và không đồng nhất: Adam có khả năng xử lý được các tập dữ liệu lớn và không đồng nhất. Tỷ lệ học tập tự động điều chỉnh giúp thuật toán khá ổn định trong quá trình tối ưu hóa.\n",
        "# **Nhược điểm:**\n",
        "\n",
        "Đòi hỏi cài đặt thích hợp của siêu tham số: Adam có hai siêu tham số quan trọng là beta1 và beta2, được sử dụng để tính toán các ước lượng của độ mất mát và độ lớn của gradient. Điều này đòi hỏi người dùng cần thử nghiệm và điều chỉnh các siêu tham số này để đạt hiệu quả tốt nhất cho bài toán cụ thể.\n",
        "Nhạy cảm với các thay đổi dữ liệu: Adam có thể nhạy cảm với các thay đổi đột ngột trong dữ liệu. Điều này có thể khiến năng suất của thuật toán bị giảm trong quá trình học khi dữ liệu thay đổi mạnh."
      ],
      "metadata": {
        "id": "b5VCYI-XDsQD"
      }
    },
    {
      "cell_type": "markdown",
      "source": [
        "# **2.RMSProp **"
      ],
      "metadata": {
        "id": "D1VOPKptES88"
      }
    },
    {
      "cell_type": "markdown",
      "source": [
        "# **Ưu điểm:**\n",
        "\n",
        "Hiệu quả trong tối ưu hóa: RMSProp rất hiệu quả trong việc tối ưu hóa mô hình. Nó kết hợp cả hai phương pháp tối ưu hóa Momentum và tỉ lệ học tập AdaGrad. Điều này giúp thuật toán xử lý tốt vấn đề khủng hoảng và hội tụ nhanh chóng hơn.\n",
        "\n",
        "Tính chất tự động điều chỉnh: RMSProp có khả năng tự động điều chỉnh tỉ lệ học tập cho từng tham số trong mô hình. Nó sử dụng trung bình có trọng số của độ lớn của gradient để điều chỉnh tỉ lệ học tập. Điều này giúp hạn chế ảnh hưởng của các tham số có gradient lớn đến ổn định của quá trình tối ưu hóa.\n",
        "\n",
        "Hiệu quả với dữ liệu lớn: RMSProp áp dụng trọng số giảm gradient cho các thông tin lâu dài và giữ lại các thông tin mới nhất. Điều này giúp thuật toán đạt hiệu quả tốt với các tập dữ liệu lớn.\n",
        "\n",
        "# **Nhược điểm:**\n",
        "\n",
        "Nhạy cảm với tỉ lệ học tập ban đầu: RMSProp có thể nhạy cảm với tỉ lệ học tập ban đầu của nó. Nếu tỉ lệ học tập ban đầu được đặt quá cao hoặc quá thấp, nó có thể dẫn đến kết quả không tốt trong quá trình tối ưu hóa.\n",
        "\n",
        "Đòi hỏi cài đặt siêu tham số phù hợp: Thuật toán RMSProp có một siêu tham số quan trọng là epsilon, được sử dụng để ngăn chặn việc chia cho không trong quá trình tính toán. Điều này đòi hỏi người dùng phải điều chỉnh siêu tham số này một cách cẩn thận để đảm bảo hiệu quả tối ưu tốt nhất."
      ],
      "metadata": {
        "id": "hG-ofhJUEOeb"
      }
    }
  ]
}