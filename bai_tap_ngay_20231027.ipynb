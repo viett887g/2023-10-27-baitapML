{
  "nbformat": 4,
  "nbformat_minor": 0,
  "metadata": {
    "colab": {
      "provenance": [],
      "authorship_tag": "ABX9TyPDj33wNEd69iL5zp2+NQCu",
      "include_colab_link": true
    },
    "kernelspec": {
      "name": "python3",
      "display_name": "Python 3"
    },
    "language_info": {
      "name": "python"
    }
  },
  "cells": [
    {
      "cell_type": "markdown",
      "metadata": {
        "id": "view-in-github",
        "colab_type": "text"
      },
      "source": [
        "<a href=\"https://colab.research.google.com/github/viett887g/2023-10-27-baitapML/blob/main/bai_tap_ngay_20231027.ipynb\" target=\"_parent\"><img src=\"https://colab.research.google.com/assets/colab-badge.svg\" alt=\"Open In Colab\"/></a>"
      ]
    },
    {
      "cell_type": "markdown",
      "source": [
        "1 Chuẩn bị dữ liệu đầu vào và đầu ra.\n",
        "\n",
        "2 Chia dữ liệu thành bộ train và bộ test để đánh giá hiệu suất của mô hình.\n",
        "\n",
        "3 Khởi tạo mô hình Linear Regression.\n",
        "\n",
        "4 Sử dụng phương thức fit() để huấn luyện mô hình trên dữ liệu train.\n",
        "\n",
        "5 Sử dụng phương thức predict() để dự đoán đầu ra cho dữ liệu test.\n",
        "\n",
        "6 Đánh giá mô hình bằng cách tính toán độ lỗi (như Mean Squared Error).\n",
        "\n",
        "7 Kiểm tra các hệ số hồi quy để hiểu mối quan hệ tuyến tính giữa các biến đầu vào và đầu ra."
      ],
      "metadata": {
        "id": "9vjEwLtxyJpJ"
      }
    },
    {
      "cell_type": "markdown",
      "source": [
        "# **I. Chọn dataset (image: MNIST)**"
      ],
      "metadata": {
        "id": "RMVXuAnI0-7d"
      }
    },
    {
      "cell_type": "code",
      "execution_count": 13,
      "metadata": {
        "id": "RdknLPqowz6J"
      },
      "outputs": [],
      "source": [
        "from sklearn import datasets\n",
        "import matplotlib.pyplot as plt\n",
        "import tensorflow as tf\n",
        "from sklearn.model_selection import train_test_split\n",
        "from sklearn.preprocessing import StandardScaler\n",
        "import numpy as np\n",
        "from __future__ import print_function\n",
        "\n",
        "from sklearn import neighbors, datasets\n",
        "from sklearn.metrics import accuracy_score,precision_score,recall_score,f1_score"
      ]
    },
    {
      "cell_type": "markdown",
      "source": [
        "# **II. Chọn 2-3 thuật toán để tối ưu hoá (SVM; LR)**"
      ],
      "metadata": {
        "id": "YlhXCpdm1uRG"
      }
    },
    {
      "cell_type": "markdown",
      "source": [
        "# ***1.Sử dụng thuật toán KNN để tối ưu***"
      ],
      "metadata": {
        "id": "sq7S3dqh1GZ3"
      }
    },
    {
      "cell_type": "code",
      "source": [
        "from sklearn.datasets import load_iris\n",
        "iris = load_iris()\n",
        "np.random.seed(7)\n",
        "iris = datasets.load_iris()\n",
        "iris_X = iris.data\n",
        "iris_y = iris.target\n",
        "# print('Labels:', np.unique(iris_y))\n",
        "X_train, X_test, y_train, y_test = train_test_split(iris_X, iris_y, test_size=130)\n",
        "model = neighbors.KNeighborsClassifier(n_neighbors = 7, p = 2)\n",
        "model.fit(X_train, y_train)\n",
        "y_pred = model.predict(X_test)\n",
        "print(iris.target_names[y_pred[9]])\n",
        "print(iris.target_names[y_test[9]])\n",
        "print(\"Accuracy K=7NN: %.2f %%\" %(100*accuracy_score(y_test, y_pred)))"
      ],
      "metadata": {
        "colab": {
          "base_uri": "https://localhost:8080/"
        },
        "id": "x41qivvh04RR",
        "outputId": "27b209f3-9585-425b-df25-d5938ef877c1"
      },
      "execution_count": 29,
      "outputs": [
        {
          "output_type": "stream",
          "name": "stdout",
          "text": [
            "versicolor\n",
            "versicolor\n",
            "Accuracy K=7NN: 93.85 %\n"
          ]
        }
      ]
    },
    {
      "cell_type": "markdown",
      "source": [
        "# ***2.Sử dụng hồi quy softmax để tối ưu***"
      ],
      "metadata": {
        "id": "6PygncuS1Nhg"
      }
    },
    {
      "cell_type": "code",
      "source": [
        "# Chuẩn bị dữ liệu\n",
        "iris = datasets.load_iris()\n",
        "features = iris.data\n",
        "labels = iris.target\n",
        "\n",
        "# Tiền xử lý dữ liệu\n",
        "scaler = StandardScaler()\n",
        "features = scaler.fit_transform(features)\n",
        "\n",
        "# Chia dữ liệu thành tập huấn luyện và tập kiểm tra\n",
        "X_train, X_test, y_train, y_test = train_test_split(features, labels, test_size=0.2, random_state=42)\n",
        "\n",
        "# Xây dựng mô hình mạng nơ-ron\n",
        "model = tf.keras.models.Sequential([\n",
        "    tf.keras.layers.Dense(32, activation='relu', input_shape=(4,)),\n",
        "    tf.keras.layers.Dense(64, activation='relu'),\n",
        "    tf.keras.layers.Dense(3, activation='softmax')\n",
        "])\n",
        "\n",
        "# Compile mô hình\n",
        "model.compile(loss='sparse_categorical_crossentropy', optimizer='adam', metrics=['accuracy'])\n",
        "\n",
        "# Huấn luyện mô hình\n",
        "model.fit(X_train, y_train, epochs=10, validation_data=(X_test, y_test))\n",
        "\n",
        "# Dự đoán nhãn cho dữ liệu kiểm tra\n",
        "y_pred = np.argmax(model.predict(X_test), axis=1)\n"
      ],
      "metadata": {
        "colab": {
          "base_uri": "https://localhost:8080/"
        },
        "id": "eq4kX8K81FfX",
        "outputId": "357cfafa-66e0-4f3b-bfc5-5c46b977b0af"
      },
      "execution_count": 44,
      "outputs": [
        {
          "output_type": "stream",
          "name": "stdout",
          "text": [
            "Epoch 1/10\n",
            "4/4 [==============================] - 1s 41ms/step - loss: 1.0501 - accuracy: 0.5250 - val_loss: 1.0247 - val_accuracy: 0.7667\n",
            "Epoch 2/10\n",
            "4/4 [==============================] - 0s 8ms/step - loss: 0.9879 - accuracy: 0.6750 - val_loss: 0.9650 - val_accuracy: 0.8333\n",
            "Epoch 3/10\n",
            "4/4 [==============================] - 0s 7ms/step - loss: 0.9319 - accuracy: 0.7250 - val_loss: 0.9076 - val_accuracy: 0.8667\n",
            "Epoch 4/10\n",
            "4/4 [==============================] - 0s 7ms/step - loss: 0.8791 - accuracy: 0.7917 - val_loss: 0.8515 - val_accuracy: 0.8667\n",
            "Epoch 5/10\n",
            "4/4 [==============================] - 0s 9ms/step - loss: 0.8272 - accuracy: 0.7917 - val_loss: 0.7978 - val_accuracy: 0.9000\n",
            "Epoch 6/10\n",
            "4/4 [==============================] - 0s 7ms/step - loss: 0.7774 - accuracy: 0.7833 - val_loss: 0.7464 - val_accuracy: 0.9000\n",
            "Epoch 7/10\n",
            "4/4 [==============================] - 0s 9ms/step - loss: 0.7330 - accuracy: 0.8083 - val_loss: 0.6968 - val_accuracy: 0.8667\n",
            "Epoch 8/10\n",
            "4/4 [==============================] - 0s 8ms/step - loss: 0.6868 - accuracy: 0.8083 - val_loss: 0.6512 - val_accuracy: 0.8667\n",
            "Epoch 9/10\n",
            "4/4 [==============================] - 0s 8ms/step - loss: 0.6473 - accuracy: 0.8083 - val_loss: 0.6081 - val_accuracy: 0.8667\n",
            "Epoch 10/10\n",
            "4/4 [==============================] - 0s 8ms/step - loss: 0.6091 - accuracy: 0.8167 - val_loss: 0.5687 - val_accuracy: 0.8667\n",
            "1/1 [==============================] - 0s 42ms/step\n"
          ]
        }
      ]
    },
    {
      "cell_type": "markdown",
      "source": [
        "# **III. So sánh hiệu suất của các thuật toán**"
      ],
      "metadata": {
        "id": "z6STyTHV11K-"
      }
    },
    {
      "cell_type": "markdown",
      "source": [
        "# **1.Thuật toán KNN**"
      ],
      "metadata": {
        "id": "10NqWrFc2-LY"
      }
    },
    {
      "cell_type": "code",
      "source": [
        "accuracy= accuracy_score(y_test,y_pred)\n",
        "ps_KNN = precision_score(y_test, y_pred, average='macro')\n",
        "rc_KNN = recall_score(y_test, y_pred, average='macro')\n",
        "f1_KNN = f1_score(y_test, y_pred, average='macro')\n",
        "data_score = [accuracy,ps_KNN,rc_KNN,f1_KNN]\n",
        "label = ['accuracy' , 'precision', 'recall', 'f1']\n",
        "for i in range(len(label)):\n",
        "  print('hiệu suất mô hình K NN',label[i], 'đạt hiệu suất là' , data_score[i])"
      ],
      "metadata": {
        "colab": {
          "base_uri": "https://localhost:8080/"
        },
        "id": "BhcEatSQ2FAg",
        "outputId": "7d6ba3e8-4b6b-48f4-a39d-ee247abf7589"
      },
      "execution_count": 32,
      "outputs": [
        {
          "output_type": "stream",
          "name": "stdout",
          "text": [
            "hiệu suất mô hình K NN accuracy đạt hiệu suất là 0.9384615384615385\n",
            "hiệu suất mô hình K NN precision đạt hiệu suất là 0.9393778720395899\n",
            "hiệu suất mô hình K NN recall đạt hiệu suất là 0.9385130373502467\n",
            "hiệu suất mô hình K NN f1 đạt hiệu suất là 0.9386243386243386\n"
          ]
        }
      ]
    },
    {
      "cell_type": "markdown",
      "source": [
        "# **2.thuật toán hồi quy softmax**"
      ],
      "metadata": {
        "id": "UoU319Bi5E4A"
      }
    },
    {
      "cell_type": "code",
      "source": [
        "# Đánh giá độ chính xác\n",
        "accuracy = model.evaluate(X_test, y_test)[1]\n",
        "print(\"độ đo chính xác Accuracy:\", accuracy)\n",
        "ps_sfm =precision_score(y_test, y_pred, average='weighted')\n",
        "rc_sfm = recall_score(y_test, y_pred, average='weighted')\n",
        "f1_sfm = 2 * (ps_sfm * rc_sfm)/(ps_sfm + rc_sfm)\n",
        "data_score_softmax = [ps_sfm,rc_sfm,f1_sfm]\n",
        "label = ['precision', 'recall', 'f1']\n",
        "for i in range(len(label)):\n",
        "  print('hiệu suất mô hình hồi quy softmax',label[i], 'đạt hiệu suất là' , data_score_softmax[i])\n"
      ],
      "metadata": {
        "colab": {
          "base_uri": "https://localhost:8080/"
        },
        "id": "0KWP5bPa7C3G",
        "outputId": "da09ecbe-57f4-4b8f-c950-ca5077ae07b1"
      },
      "execution_count": 45,
      "outputs": [
        {
          "output_type": "stream",
          "name": "stdout",
          "text": [
            "1/1 [==============================] - 0s 17ms/step - loss: 0.5687 - accuracy: 0.8667\n",
            "độ đo chính xác Accuracy: 0.8666666746139526\n",
            "hiệu suất mô hình hồi quy softmax precision đạt hiệu suất là 0.9022222222222223\n",
            "hiệu suất mô hình hồi quy softmax recall đạt hiệu suất là 0.8666666666666667\n",
            "hiệu suất mô hình hồi quy softmax f1 đạt hiệu suất là 0.8840871021775545\n"
          ]
        }
      ]
    },
    {
      "cell_type": "markdown",
      "source": [
        "# **Kết luận**\n",
        "\n",
        "Dựa trên các giá trị này, mô hình KNN có hiệu suất tốt hơn mô hình hồi quy softmax khi xét đến các độ đo như accuracy, precision, recall và F1-score. Mô hình KNN đạt hiệu suất cao nhất trong tất cả các chỉ số này."
      ],
      "metadata": {
        "id": "uVdEkXWJ9u2v"
      }
    },
    {
      "cell_type": "markdown",
      "source": [
        "# ***IV.Ưu nhược điểm của thuật toán***"
      ],
      "metadata": {
        "id": "JBrrh0CX8sWX"
      }
    },
    {
      "cell_type": "markdown",
      "source": [
        "# **1 Ưu điểm và nhược điểm của thuật toán K NN:**"
      ],
      "metadata": {
        "id": "5rjJK7Hu9-OU"
      }
    },
    {
      "cell_type": "markdown",
      "source": [
        "# ***Ưu điểm của thuật toán KNN:***\n",
        "\n",
        "Đơn giản và dễ hiểu: KNN là một thuật toán đơn giản và dễ hiểu, không yêu cầu tri thức chuyên sâu về toán học hay hồi quy.\n",
        "\n",
        "Không cần giả định về phân phối dữ liệu: KNN không đặt ra giả định về phân phối của dữ liệu, do đó, nó có thể hoạt động tốt trên các tập dữ liệu không tuân theo nguyên tắc phân phối chuẩn.\n",
        "\n",
        "Tính tổng quát cao: KNN không chỉ hoạt động tốt trên các vấn đề phân loại đơn giản, mà còn có thể xử lý các vấn đề phân loại phức tạp hơn. Nó được coi là một phương pháp học không gian gần nhất.\n",
        "\n",
        "Khả năng học phi tham số: KNN không yêu cầu quá trình huấn luyện phức tạp, do đó thời gian huấn luyện giản lược.\n",
        "\n",
        "# ***Nhược điểm của thuật toán KNN:***\n",
        "\n",
        "Yêu cầu lưu trữ toàn bộ tập dữ liệu huấn luyện: KNN phải lưu trữ toàn bộ tập dữ liệu huấn luyện trong bộ nhớ, điều này tiêu tốn nhiều không gian. Điều này làm cho KNN không hiệu quả khi xử lý các tập dữ liệu lớn.\n",
        "\n",
        "Phụ thuộc vào lựa chọn số hàng xóm (K): KNN yêu cầu lựa chọn số hàng xóm (K) phù hợp. Lựa chọn K không đúng có thể dẫn đến overfitting hoặc underfitting.\n",
        "\n",
        "Nhạy cảm với dữ liệu nhiễu: KNN có thể bị ảnh hưởng bởi nhiễu trong dữ liệu, đặc biệt là khi khoảng cách giữa các điểm dữ liệu không đồng nhất trong không gian đặc trưng."
      ],
      "metadata": {
        "id": "4jR3uvVj80cj"
      }
    },
    {
      "cell_type": "markdown",
      "source": [
        "# ***2 Ưu điểm và nhược điểm của thuật toán hồi quy softmax***"
      ],
      "metadata": {
        "id": "6s8T2ObR9UTV"
      }
    },
    {
      "cell_type": "markdown",
      "source": [
        "\n",
        "\n",
        "# ***Ưu điểm:***\n",
        "\n",
        "Hiệu suất cao cho bài toán phân loại với nhiều lớp.\n",
        "Mô hình tạo ra các dự đoán xác suất cho mỗi lớp, cung cấp thông tin chi tiết về độ chắc chắn của dự đoán.\n",
        "# ***Nhược điểm:***\n",
        "\n",
        "Chi phí tính toán cao: Hồi quy softmax yêu cầu tính toán đồ thị xác suất của tất cả các classes trong quá trình huấn luyện và dự đoán, điều này có thể tăng chi phí tính toán so với các thuật toán phân loại khác.\n",
        "Đặt ra giả định phân phối chuẩn: Hồi quy softmax đặt ra giả định về phân phối chuẩn của dữ liệu, do đó nếu dữ liệu không tuân theo giả định này thì có thể ảnh hưởng đến hiệu suất của mô hình."
      ],
      "metadata": {
        "id": "gxmy8Mvo9BNf"
      }
    }
  ]
}